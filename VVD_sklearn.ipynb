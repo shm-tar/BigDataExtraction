{
 "cells": [
  {
   "cell_type": "code",
   "execution_count": 1,
   "metadata": {},
   "outputs": [
    {
     "name": "stdout",
     "output_type": "stream",
     "text": [
      "+-----+\n",
      "|hello|\n",
      "+-----+\n",
      "|spark|\n",
      "+-----+\n",
      "\n"
     ]
    }
   ],
   "source": [
    "# https://towardsdatascience.com/a-beginners-guide-to-linear-regression-in-python-with-scikit-learn-83a8f7ae2b4f\n",
    "import numpy as np\n",
    "import pandas as pd\n",
    "\n",
    "import pyspark\n",
    "\n",
    "from pyspark.sql import SparkSession\n",
    "\n",
    "spark = SparkSession.builder.getOrCreate()\n",
    "\n",
    "df = spark.sql(\"select 'spark' as hello \")\n",
    "\n",
    "df.show()"
   ]
  },
  {
   "cell_type": "code",
   "execution_count": 2,
   "metadata": {},
   "outputs": [
    {
     "name": "stdout",
     "output_type": "stream",
     "text": [
      "SparkContext already exists!\n",
      "+----+-----+---+----+------+------+-----------+----------+--------------+-----------+-----------------+------------+-------------+---------+-----------------+-----------------+\n",
      "|Year|Month|Day|Hour|Minute|Second|      FW_PG|Wind_Speed|Wind_Direction|Temperature|Relative_Humidity|    Pressure|Precipitation|Dew Point|Absolute_Humidity|Specific_Humidity|\n",
      "+----+-----+---+----+------+------+-----------+----------+--------------+-----------+-----------------+------------+-------------+---------+-----------------+-----------------+\n",
      "|2018|    1|  1|   0|     0|     0| 106.772863|  0.240000|      8.930000|   2.690000|        89.670000| 1011.000000|     0.000000| 1.149374|         5.223580|         0.804220|\n",
      "|2018|    1|  1|   0|     1|     0| 105.187933|  0.290000|      8.900000|   2.740000|        90.250000| 1011.010000|     0.000000| 1.288370|         5.275076|         0.805798|\n",
      "|2018|    1|  1|   0|     2|     0| 119.689349|  0.100000|      8.110000|   2.600000|        90.110000| 1011.000000|     0.000000| 1.128684|         5.217515|         0.803984|\n",
      "|2018|    1|  1|   0|     3|     0| 106.389584|  0.080000|      2.920000|   2.520000|        90.350000| 1010.990000|     0.000000| 1.086740|         5.203304|         0.803505|\n",
      "|2018|    1|  1|   0|     4|     0| 106.443489|  0.080000|    349.300000|   2.570000|        90.750000| 1010.980000|     0.000000| 1.197495|         5.243970|         0.804768|\n",
      "|2018|    1|  1|   0|     5|     0| 113.447731|  0.080000|    343.190000|   2.510000|        90.720000| 1010.950000|     0.000000| 1.133674|         5.221094|         0.804041|\n",
      "|2018|    1|  1|   0|     6|     0| 107.098889|  0.080000|    343.380000|   2.510000|        90.920000| 1010.920000|     0.000000| 1.164292|         5.232604|         0.804390|\n",
      "|2018|    1|  1|   0|     7|     0| 123.023519|  0.080000|    343.730000|   2.390000|        90.890000| 1010.920000|     0.000000| 1.041234|         5.188737|         0.802983|\n",
      "|2018|    1|  1|   0|     8|     0| 129.590074|  0.080000|    344.540000|   2.310000|        90.960000| 1010.930000|     0.000000| 0.972942|         5.164784|         0.802199|\n",
      "|2018|    1|  1|   0|     9|     0| 123.573033|  0.080000|    344.500000|   2.300000|        91.160000| 1010.940000|     0.000000| 0.993563|         5.172648|         0.802436|\n",
      "+----+-----+---+----+------+------+-----------+----------+--------------+-----------+-----------------+------------+-------------+---------+-----------------+-----------------+\n",
      "only showing top 10 rows\n",
      "\n",
      "None\n"
     ]
    }
   ],
   "source": [
    "import numpy as np\n",
    "import pandas as pd\n",
    "import matplotlib.pyplot as plt\n",
    "%matplotlib inline\n",
    "from pyspark import SparkContext\n",
    "try:\n",
    "    sc = SparkContext('local', 'Pyspark demo')\n",
    "except ValueError:\n",
    "    print('SparkContext already exists!')\n",
    "from pyspark.sql import SparkSession\n",
    "try:\n",
    "    spark = SparkSession.builder.appName('Dataset_Analysis').getOrCreate()\n",
    "except ValueError:\n",
    "    print('SparkSession already exists!')\n",
    "\n",
    "spark_df1 = spark.read.csv(\"FW_PG_Meteo.csv\", header=True)\n",
    "print(spark_df1.show(10))"
   ]
  },
  {
   "cell_type": "code",
   "execution_count": 3,
   "metadata": {},
   "outputs": [
    {
     "name": "stdout",
     "output_type": "stream",
     "text": [
      "1051200\n",
      "+----+-----+---+----+------+------+-----------+----------+--------------+-----------+-----------------+------------+-------------+---------+-----------------+-----------------+\n",
      "|Year|Month|Day|Hour|Minute|Second|      FW_PG|Wind_Speed|Wind_Direction|Temperature|Relative_Humidity|    Pressure|Precipitation|Dew Point|Absolute_Humidity|Specific_Humidity|\n",
      "+----+-----+---+----+------+------+-----------+----------+--------------+-----------+-----------------+------------+-------------+---------+-----------------+-----------------+\n",
      "|2018|    1|  1|   0|     0|     0| 106.772863|  0.240000|      8.930000|   2.690000|        89.670000| 1011.000000|     0.000000| 1.149374|         5.223580|         0.804220|\n",
      "|2018|    1|  1|   0|     1|     0| 105.187933|  0.290000|      8.900000|   2.740000|        90.250000| 1011.010000|     0.000000| 1.288370|         5.275076|         0.805798|\n",
      "|2018|    1|  1|   0|     2|     0| 119.689349|  0.100000|      8.110000|   2.600000|        90.110000| 1011.000000|     0.000000| 1.128684|         5.217515|         0.803984|\n",
      "|2018|    1|  1|   0|     3|     0| 106.389584|  0.080000|      2.920000|   2.520000|        90.350000| 1010.990000|     0.000000| 1.086740|         5.203304|         0.803505|\n",
      "|2018|    1|  1|   0|     4|     0| 106.443489|  0.080000|    349.300000|   2.570000|        90.750000| 1010.980000|     0.000000| 1.197495|         5.243970|         0.804768|\n",
      "|2018|    1|  1|   0|     5|     0| 113.447731|  0.080000|    343.190000|   2.510000|        90.720000| 1010.950000|     0.000000| 1.133674|         5.221094|         0.804041|\n",
      "|2018|    1|  1|   0|     6|     0| 107.098889|  0.080000|    343.380000|   2.510000|        90.920000| 1010.920000|     0.000000| 1.164292|         5.232604|         0.804390|\n",
      "|2018|    1|  1|   0|     7|     0| 123.023519|  0.080000|    343.730000|   2.390000|        90.890000| 1010.920000|     0.000000| 1.041234|         5.188737|         0.802983|\n",
      "|2018|    1|  1|   0|     8|     0| 129.590074|  0.080000|    344.540000|   2.310000|        90.960000| 1010.930000|     0.000000| 0.972942|         5.164784|         0.802199|\n",
      "|2018|    1|  1|   0|     9|     0| 123.573033|  0.080000|    344.500000|   2.300000|        91.160000| 1010.940000|     0.000000| 0.993563|         5.172648|         0.802436|\n",
      "|2018|    1|  1|   0|    10|     0| 122.207324|  0.080000|    344.500000|   2.250000|        91.260000| 1010.960000|     0.000000| 0.959403|         5.160874|         0.802043|\n",
      "|2018|    1|  1|   0|    11|     0| 120.075139|  0.080000|    344.510000|   2.250000|        91.460000| 1010.960000|     0.000000| 0.989795|         5.172184|         0.802393|\n",
      "|2018|    1|  1|   0|    12|     0| 133.212017|  0.080000|    337.660000|   2.300000|        91.700000| 1010.980000|     0.000000| 1.075601|         5.203289|         0.803377|\n",
      "|2018|    1|  1|   0|    13|     0| 150.234839|  0.080000|    339.380000|   2.280000|        91.760000| 1010.990000|     0.000000| 1.064924|         5.199670|         0.803255|\n",
      "|2018|    1|  1|   0|    14|     0| 133.270024|  0.080000|    338.520000|   2.310000|        91.950000| 1011.000000|     0.000000| 1.123323|         5.220997|         0.803923|\n",
      "|2018|    1|  1|   0|    15|     0| 139.346243|  0.080000|    338.060000|   2.310000|        92.000000| 1011.010000|     0.000000| 1.130880|         5.223836|         0.804009|\n",
      "|2018|    1|  1|   0|    16|     0| 121.012035|  0.080000|    338.080000|   2.320000|        92.180000| 1011.020000|     0.000000| 1.167943|         5.237590|         0.804431|\n",
      "|2018|    1|  1|   0|    17|     0| 115.757116|  0.080000|    338.080000|   2.380000|        92.400000| 1011.020000|     0.000000| 1.260443|         5.271384|         0.805482|\n",
      "|2018|    1|  1|   0|    18|     0| 113.019168|  0.080000|    338.070000|   2.440000|        92.560000| 1011.030000|     0.000000| 1.343880|         5.301919|         0.806426|\n",
      "|2018|    1|  1|   0|    19|     0| 102.077085|  0.080000|    338.080000|   2.490000|        92.720000| 1011.040000|     0.000000| 1.417410|         5.329011|         0.807254|\n",
      "+----+-----+---+----+------+------+-----------+----------+--------------+-----------+-----------------+------------+-------------+---------+-----------------+-----------------+\n",
      "only showing top 20 rows\n",
      "\n",
      "681053\n"
     ]
    }
   ],
   "source": [
    "from pyspark.sql.functions import col, isnan, when, trim\n",
    "\n",
    "def to_null(c):\n",
    "    return when(~(col(c).isNull() | isnan(col(c)) | (trim(col(c)) == \"\")), col(c))\n",
    "\n",
    "print(spark_df1.count())\n",
    "spark_df2 = spark_df1.select([to_null(c).alias(c) for c in spark_df1.columns]).na.drop()\n",
    "spark_df2.show()\n",
    "print(spark_df2.count())"
   ]
  },
  {
   "cell_type": "code",
   "execution_count": 4,
   "metadata": {},
   "outputs": [
    {
     "name": "stdout",
     "output_type": "stream",
     "text": [
      "        Year Month  Day Hour Minute Second        FW_PG Wind_Speed  \\\n",
      "0       2018     1    1    0      0      0   106.772863   0.240000   \n",
      "1       2018     1    1    0      1      0   105.187933   0.290000   \n",
      "2       2018     1    1    0      2      0   119.689349   0.100000   \n",
      "3       2018     1    1    0      3      0   106.389584   0.080000   \n",
      "4       2018     1    1    0      4      0   106.443489   0.080000   \n",
      "...      ...   ...  ...  ...    ...    ...          ...        ...   \n",
      "681048  2019    12   31    6     41      0   218.800000   2.540000   \n",
      "681049  2019    12   31    6     42      0   273.960000   2.620000   \n",
      "681050  2019    12   31    6     43      0   245.340000   2.680000   \n",
      "681051  2019    12   31    6     44      0   239.480000   2.110000   \n",
      "681052  2019    12   31    6     45      0   239.260000   1.760000   \n",
      "\n",
      "       Wind_Direction Temperature Relative_Humidity      Pressure  \\\n",
      "0            8.930000    2.690000         89.670000   1011.000000   \n",
      "1            8.900000    2.740000         90.250000   1011.010000   \n",
      "2            8.110000    2.600000         90.110000   1011.000000   \n",
      "3            2.920000    2.520000         90.350000   1010.990000   \n",
      "4          349.300000    2.570000         90.750000   1010.980000   \n",
      "...               ...         ...               ...           ...   \n",
      "681048     330.160000    4.310000         33.510000   1019.050000   \n",
      "681049     294.840000    4.010000         36.070000   1019.040000   \n",
      "681050     309.860000    4.000000         36.570000   1019.050000   \n",
      "681051     301.790000    4.050000         36.210000   1019.070000   \n",
      "681052     320.260000    4.050000         36.170000   1019.040000   \n",
      "\n",
      "       Precipitation    Dew Point Absolute_Humidity Specific_Humidity  \n",
      "0           0.000000     1.149374          5.223580          0.804220  \n",
      "1           0.000000     1.288370          5.275076          0.805798  \n",
      "2           0.000000     1.128684          5.217515          0.803984  \n",
      "3           0.000000     1.086740          5.203304          0.803505  \n",
      "4           0.000000     1.197495          5.243970          0.804768  \n",
      "...              ...          ...               ...               ...  \n",
      "681048      0.000000   -10.372977          2.175226          0.631547  \n",
      "681049      0.000000    -9.707747          2.295190          0.643734  \n",
      "681050      0.000000    -9.541917          2.325458          0.646733  \n",
      "681051      0.000000    -9.623004          2.310238          0.645268  \n",
      "681052      0.000000    -9.637032          2.307686          0.645015  \n",
      "\n",
      "[681053 rows x 16 columns]\n"
     ]
    }
   ],
   "source": [
    "new_df = spark_df2.toPandas()\n",
    "print(new_df)"
   ]
  },
  {
   "cell_type": "code",
   "execution_count": 5,
   "metadata": {},
   "outputs": [
    {
     "data": {
      "text/html": [
       "<div>\n",
       "<style scoped>\n",
       "    .dataframe tbody tr th:only-of-type {\n",
       "        vertical-align: middle;\n",
       "    }\n",
       "\n",
       "    .dataframe tbody tr th {\n",
       "        vertical-align: top;\n",
       "    }\n",
       "\n",
       "    .dataframe thead th {\n",
       "        text-align: right;\n",
       "    }\n",
       "</style>\n",
       "<table border=\"1\" class=\"dataframe\">\n",
       "  <thead>\n",
       "    <tr style=\"text-align: right;\">\n",
       "      <th></th>\n",
       "      <th>Year</th>\n",
       "      <th>Month</th>\n",
       "      <th>Day</th>\n",
       "      <th>Hour</th>\n",
       "      <th>Minute</th>\n",
       "      <th>Second</th>\n",
       "      <th>FW_PG</th>\n",
       "      <th>Wind_Speed</th>\n",
       "      <th>Wind_Direction</th>\n",
       "      <th>Temperature</th>\n",
       "      <th>Relative_Humidity</th>\n",
       "      <th>Pressure</th>\n",
       "      <th>Precipitation</th>\n",
       "      <th>Dew Point</th>\n",
       "      <th>Absolute_Humidity</th>\n",
       "      <th>Specific_Humidity</th>\n",
       "    </tr>\n",
       "  </thead>\n",
       "  <tbody>\n",
       "    <tr>\n",
       "      <th>count</th>\n",
       "      <td>681053.000000</td>\n",
       "      <td>681053.000000</td>\n",
       "      <td>681053.000000</td>\n",
       "      <td>681053.000000</td>\n",
       "      <td>681053.000000</td>\n",
       "      <td>681053.0</td>\n",
       "      <td>681053.000000</td>\n",
       "      <td>681053.000000</td>\n",
       "      <td>681053.000000</td>\n",
       "      <td>681053.000000</td>\n",
       "      <td>681053.000000</td>\n",
       "      <td>681053.000000</td>\n",
       "      <td>681053.0</td>\n",
       "      <td>681053.000000</td>\n",
       "      <td>681053.000000</td>\n",
       "      <td>681053.000000</td>\n",
       "    </tr>\n",
       "    <tr>\n",
       "      <th>mean</th>\n",
       "      <td>2018.571359</td>\n",
       "      <td>6.654231</td>\n",
       "      <td>16.033409</td>\n",
       "      <td>11.422171</td>\n",
       "      <td>29.491084</td>\n",
       "      <td>0.0</td>\n",
       "      <td>117.986244</td>\n",
       "      <td>1.167283</td>\n",
       "      <td>235.533641</td>\n",
       "      <td>18.138322</td>\n",
       "      <td>58.380760</td>\n",
       "      <td>1007.476647</td>\n",
       "      <td>0.0</td>\n",
       "      <td>8.663955</td>\n",
       "      <td>8.949486</td>\n",
       "      <td>0.865027</td>\n",
       "    </tr>\n",
       "    <tr>\n",
       "      <th>std</th>\n",
       "      <td>0.494882</td>\n",
       "      <td>3.356332</td>\n",
       "      <td>9.010634</td>\n",
       "      <td>6.908480</td>\n",
       "      <td>17.285548</td>\n",
       "      <td>0.0</td>\n",
       "      <td>73.745866</td>\n",
       "      <td>1.105078</td>\n",
       "      <td>111.121467</td>\n",
       "      <td>8.407298</td>\n",
       "      <td>21.241298</td>\n",
       "      <td>6.026947</td>\n",
       "      <td>0.0</td>\n",
       "      <td>6.393586</td>\n",
       "      <td>3.298923</td>\n",
       "      <td>0.057621</td>\n",
       "    </tr>\n",
       "    <tr>\n",
       "      <th>min</th>\n",
       "      <td>2018.000000</td>\n",
       "      <td>1.000000</td>\n",
       "      <td>1.000000</td>\n",
       "      <td>0.000000</td>\n",
       "      <td>0.000000</td>\n",
       "      <td>0.0</td>\n",
       "      <td>0.000000</td>\n",
       "      <td>0.070000</td>\n",
       "      <td>0.000000</td>\n",
       "      <td>-3.820000</td>\n",
       "      <td>12.110000</td>\n",
       "      <td>980.850000</td>\n",
       "      <td>0.0</td>\n",
       "      <td>-18.620027</td>\n",
       "      <td>1.090970</td>\n",
       "      <td>0.464865</td>\n",
       "    </tr>\n",
       "    <tr>\n",
       "      <th>25%</th>\n",
       "      <td>2018.000000</td>\n",
       "      <td>4.000000</td>\n",
       "      <td>8.000000</td>\n",
       "      <td>6.000000</td>\n",
       "      <td>15.000000</td>\n",
       "      <td>0.0</td>\n",
       "      <td>60.390000</td>\n",
       "      <td>0.130000</td>\n",
       "      <td>166.580000</td>\n",
       "      <td>11.230000</td>\n",
       "      <td>42.290000</td>\n",
       "      <td>1003.570000</td>\n",
       "      <td>0.0</td>\n",
       "      <td>4.503268</td>\n",
       "      <td>6.386921</td>\n",
       "      <td>0.839240</td>\n",
       "    </tr>\n",
       "    <tr>\n",
       "      <th>50%</th>\n",
       "      <td>2019.000000</td>\n",
       "      <td>7.000000</td>\n",
       "      <td>17.000000</td>\n",
       "      <td>11.000000</td>\n",
       "      <td>29.000000</td>\n",
       "      <td>0.0</td>\n",
       "      <td>106.950000</td>\n",
       "      <td>0.900000</td>\n",
       "      <td>284.440000</td>\n",
       "      <td>18.030000</td>\n",
       "      <td>55.750000</td>\n",
       "      <td>1007.410000</td>\n",
       "      <td>0.0</td>\n",
       "      <td>9.755105</td>\n",
       "      <td>8.938992</td>\n",
       "      <td>0.882466</td>\n",
       "    </tr>\n",
       "    <tr>\n",
       "      <th>75%</th>\n",
       "      <td>2019.000000</td>\n",
       "      <td>9.000000</td>\n",
       "      <td>24.000000</td>\n",
       "      <td>17.000000</td>\n",
       "      <td>44.000000</td>\n",
       "      <td>0.0</td>\n",
       "      <td>163.570848</td>\n",
       "      <td>1.830000</td>\n",
       "      <td>324.470000</td>\n",
       "      <td>24.810000</td>\n",
       "      <td>73.070000</td>\n",
       "      <td>1011.240000</td>\n",
       "      <td>0.0</td>\n",
       "      <td>13.572734</td>\n",
       "      <td>11.382483</td>\n",
       "      <td>0.906502</td>\n",
       "    </tr>\n",
       "    <tr>\n",
       "      <th>max</th>\n",
       "      <td>2019.000000</td>\n",
       "      <td>12.000000</td>\n",
       "      <td>31.000000</td>\n",
       "      <td>23.000000</td>\n",
       "      <td>59.000000</td>\n",
       "      <td>0.0</td>\n",
       "      <td>349.990000</td>\n",
       "      <td>9.350000</td>\n",
       "      <td>360.000000</td>\n",
       "      <td>37.530000</td>\n",
       "      <td>100.000000</td>\n",
       "      <td>1026.060000</td>\n",
       "      <td>0.0</td>\n",
       "      <td>23.290995</td>\n",
       "      <td>20.487350</td>\n",
       "      <td>0.947544</td>\n",
       "    </tr>\n",
       "  </tbody>\n",
       "</table>\n",
       "</div>"
      ],
      "text/plain": [
       "                Year          Month            Day           Hour  \\\n",
       "count  681053.000000  681053.000000  681053.000000  681053.000000   \n",
       "mean     2018.571359       6.654231      16.033409      11.422171   \n",
       "std         0.494882       3.356332       9.010634       6.908480   \n",
       "min      2018.000000       1.000000       1.000000       0.000000   \n",
       "25%      2018.000000       4.000000       8.000000       6.000000   \n",
       "50%      2019.000000       7.000000      17.000000      11.000000   \n",
       "75%      2019.000000       9.000000      24.000000      17.000000   \n",
       "max      2019.000000      12.000000      31.000000      23.000000   \n",
       "\n",
       "              Minute    Second          FW_PG     Wind_Speed  Wind_Direction  \\\n",
       "count  681053.000000  681053.0  681053.000000  681053.000000   681053.000000   \n",
       "mean       29.491084       0.0     117.986244       1.167283      235.533641   \n",
       "std        17.285548       0.0      73.745866       1.105078      111.121467   \n",
       "min         0.000000       0.0       0.000000       0.070000        0.000000   \n",
       "25%        15.000000       0.0      60.390000       0.130000      166.580000   \n",
       "50%        29.000000       0.0     106.950000       0.900000      284.440000   \n",
       "75%        44.000000       0.0     163.570848       1.830000      324.470000   \n",
       "max        59.000000       0.0     349.990000       9.350000      360.000000   \n",
       "\n",
       "         Temperature  Relative_Humidity       Pressure  Precipitation  \\\n",
       "count  681053.000000      681053.000000  681053.000000       681053.0   \n",
       "mean       18.138322          58.380760    1007.476647            0.0   \n",
       "std         8.407298          21.241298       6.026947            0.0   \n",
       "min        -3.820000          12.110000     980.850000            0.0   \n",
       "25%        11.230000          42.290000    1003.570000            0.0   \n",
       "50%        18.030000          55.750000    1007.410000            0.0   \n",
       "75%        24.810000          73.070000    1011.240000            0.0   \n",
       "max        37.530000         100.000000    1026.060000            0.0   \n",
       "\n",
       "           Dew Point  Absolute_Humidity  Specific_Humidity  \n",
       "count  681053.000000      681053.000000      681053.000000  \n",
       "mean        8.663955           8.949486           0.865027  \n",
       "std         6.393586           3.298923           0.057621  \n",
       "min       -18.620027           1.090970           0.464865  \n",
       "25%         4.503268           6.386921           0.839240  \n",
       "50%         9.755105           8.938992           0.882466  \n",
       "75%        13.572734          11.382483           0.906502  \n",
       "max        23.290995          20.487350           0.947544  "
      ]
     },
     "execution_count": 5,
     "metadata": {},
     "output_type": "execute_result"
    }
   ],
   "source": [
    "new_df = new_df.astype(float)\n",
    "new_df.describe()"
   ]
  },
  {
   "cell_type": "code",
   "execution_count": 6,
   "metadata": {},
   "outputs": [
    {
     "data": {
      "image/png": "[encoded data removed]",
      "text/plain": [
       "<Figure size 432x288 with 1 Axes>"
      ]
     },
     "metadata": {
      "needs_background": "light"
     },
     "output_type": "display_data"
    }
   ],
   "source": [
    "new_df.plot(x='Dew Point', y='Absolute_Humidity', style='o')  \n",
    "plt.title('Dew Point vs Absolute Humidity')  \n",
    "plt.xlabel('Dew Point')  \n",
    "plt.ylabel('Absolute Humidity')  \n",
    "plt.show()"
   ]
  },
  {
   "cell_type": "code",
   "execution_count": 7,
   "metadata": {},
   "outputs": [
    {
     "data": {
      "text/plain": [
       "<matplotlib.axes._subplots.AxesSubplot at 0x23310471f08>"
      ]
     },
     "execution_count": 7,
     "metadata": {},
     "output_type": "execute_result"
    },
    {
     "data": {
      "image/png": "[encoded data removed]",
      "text/plain": [
       "<Figure size 1080x720 with 1 Axes>"
      ]
     },
     "metadata": {
      "needs_background": "light"
     },
     "output_type": "display_data"
    }
   ],
   "source": [
    "import seaborn as sbn\n",
    "import matplotlib.pyplot as plt  \n",
    "from sklearn.model_selection import train_test_split \n",
    "from sklearn.linear_model import LinearRegression\n",
    "from sklearn import metrics\n",
    "%matplotlib inline\n",
    "\n",
    "plt.figure(figsize=(15,10))\n",
    "plt.tight_layout()\n",
    "sbn.distplot(new_df['Dew Point'])"
   ]
  },
  {
   "cell_type": "code",
   "execution_count": 8,
   "metadata": {},
   "outputs": [],
   "source": [
    "X = new_df['Dew Point'].values.reshape(-1,1)\n",
    "y = new_df['Absolute_Humidity'].values.reshape(-1,1)\n",
    "X_train, X_test, y_train, y_test = train_test_split(X, y, test_size=0.3, random_state=0)"
   ]
  },
  {
   "cell_type": "code",
   "execution_count": 9,
   "metadata": {},
   "outputs": [
    {
     "data": {
      "text/plain": [
       "LinearRegression(copy_X=True, fit_intercept=True, n_jobs=None, normalize=False)"
      ]
     },
     "execution_count": 9,
     "metadata": {},
     "output_type": "execute_result"
    }
   ],
   "source": [
    "regressor = LinearRegression()  \n",
    "regressor.fit(X_train, y_train)"
   ]
  },
  {
   "cell_type": "code",
   "execution_count": 10,
   "metadata": {},
   "outputs": [
    {
     "name": "stdout",
     "output_type": "stream",
     "text": [
      "[4.58914986]\n",
      "[[0.5033171]]\n"
     ]
    }
   ],
   "source": [
    "print(regressor.intercept_)\n",
    "\n",
    "print(regressor.coef_)"
   ]
  },
  {
   "cell_type": "code",
   "execution_count": 11,
   "metadata": {},
   "outputs": [
    {
     "data": {
      "text/html": [
       "<div>\n",
       "<style scoped>\n",
       "    .dataframe tbody tr th:only-of-type {\n",
       "        vertical-align: middle;\n",
       "    }\n",
       "\n",
       "    .dataframe tbody tr th {\n",
       "        vertical-align: top;\n",
       "    }\n",
       "\n",
       "    .dataframe thead th {\n",
       "        text-align: right;\n",
       "    }\n",
       "</style>\n",
       "<table border=\"1\" class=\"dataframe\">\n",
       "  <thead>\n",
       "    <tr style=\"text-align: right;\">\n",
       "      <th></th>\n",
       "      <th>Actual</th>\n",
       "      <th>Predicted</th>\n",
       "    </tr>\n",
       "  </thead>\n",
       "  <tbody>\n",
       "    <tr>\n",
       "      <th>0</th>\n",
       "      <td>9.732148</td>\n",
       "      <td>10.208585</td>\n",
       "    </tr>\n",
       "    <tr>\n",
       "      <th>1</th>\n",
       "      <td>7.132104</td>\n",
       "      <td>7.498544</td>\n",
       "    </tr>\n",
       "    <tr>\n",
       "      <th>2</th>\n",
       "      <td>6.140879</td>\n",
       "      <td>6.714713</td>\n",
       "    </tr>\n",
       "    <tr>\n",
       "      <th>3</th>\n",
       "      <td>3.518103</td>\n",
       "      <td>2.561721</td>\n",
       "    </tr>\n",
       "    <tr>\n",
       "      <th>4</th>\n",
       "      <td>14.077094</td>\n",
       "      <td>13.117973</td>\n",
       "    </tr>\n",
       "    <tr>\n",
       "      <th>...</th>\n",
       "      <td>...</td>\n",
       "      <td>...</td>\n",
       "    </tr>\n",
       "    <tr>\n",
       "      <th>204311</th>\n",
       "      <td>9.676063</td>\n",
       "      <td>10.307774</td>\n",
       "    </tr>\n",
       "    <tr>\n",
       "      <th>204312</th>\n",
       "      <td>3.537399</td>\n",
       "      <td>2.582552</td>\n",
       "    </tr>\n",
       "    <tr>\n",
       "      <th>204313</th>\n",
       "      <td>8.243816</td>\n",
       "      <td>8.987751</td>\n",
       "    </tr>\n",
       "    <tr>\n",
       "      <th>204314</th>\n",
       "      <td>11.283796</td>\n",
       "      <td>11.342906</td>\n",
       "    </tr>\n",
       "    <tr>\n",
       "      <th>204315</th>\n",
       "      <td>10.265048</td>\n",
       "      <td>10.322722</td>\n",
       "    </tr>\n",
       "  </tbody>\n",
       "</table>\n",
       "<p>204316 rows × 2 columns</p>\n",
       "</div>"
      ],
      "text/plain": [
       "           Actual  Predicted\n",
       "0        9.732148  10.208585\n",
       "1        7.132104   7.498544\n",
       "2        6.140879   6.714713\n",
       "3        3.518103   2.561721\n",
       "4       14.077094  13.117973\n",
       "...           ...        ...\n",
       "204311   9.676063  10.307774\n",
       "204312   3.537399   2.582552\n",
       "204313   8.243816   8.987751\n",
       "204314  11.283796  11.342906\n",
       "204315  10.265048  10.322722\n",
       "\n",
       "[204316 rows x 2 columns]"
      ]
     },
     "execution_count": 11,
     "metadata": {},
     "output_type": "execute_result"
    }
   ],
   "source": [
    "y_pred = regressor.predict(X_test)\n",
    "\n",
    "df_pred_single = pd.DataFrame({'Actual': y_test.flatten(), 'Predicted': y_pred.flatten()})\n",
    "df_pred_single"
   ]
  },
  {
   "cell_type": "code",
   "execution_count": 12,
   "metadata": {},
   "outputs": [
    {
     "data": {
      "image/png": "[encoded data removed]",
      "text/plain": [
       "<Figure size 432x288 with 1 Axes>"
      ]
     },
     "metadata": {
      "needs_background": "light"
     },
     "output_type": "display_data"
    },
    {
     "name": "stdout",
     "output_type": "stream",
     "text": [
      "95.2742221934331 %\n"
     ]
    }
   ],
   "source": [
    "plt.scatter(X_test, y_test, color='gray')\n",
    "plt.plot(X_test, y_pred, color='red', linewidth=2)\n",
    "plt.show()\n",
    "accuracy = regressor.score(X_test, y_test)\n",
    "print(accuracy*100,'%')"
   ]
  },
  {
   "cell_type": "code",
   "execution_count": 13,
   "metadata": {},
   "outputs": [
    {
     "name": "stdout",
     "output_type": "stream",
     "text": [
      "Mean Absolute Error: 0.546338192199048\n",
      "Mean Squared Error: 0.5135924738595623\n",
      "Root Mean Squared Error: 0.7166536638150692\n"
     ]
    }
   ],
   "source": [
    "print('Mean Absolute Error:', metrics.mean_absolute_error(y_test, y_pred))  \n",
    "print('Mean Squared Error:', metrics.mean_squared_error(y_test, y_pred))  \n",
    "print('Root Mean Squared Error:', np.sqrt(metrics.mean_squared_error(y_test, y_pred)))"
   ]
  },
  {
   "cell_type": "markdown",
   "metadata": {},
   "source": [
    "\"\"\" Multiple feature fit \"\"\""
   ]
  },
  {
   "cell_type": "code",
   "execution_count": 14,
   "metadata": {},
   "outputs": [],
   "source": [
    "X = new_df[['Year', 'Month', 'Day', 'Hour', 'Minute', 'FW_PG', 'Wind_Speed', 'Wind_Direction', 'Relative_Humidity', 'Pressure', 'Precipitation', 'Dew Point']].values\n",
    "y = new_df['Temperature'].values"
   ]
  },
  {
   "cell_type": "code",
   "execution_count": 15,
   "metadata": {},
   "outputs": [
    {
     "data": {
      "text/plain": [
       "<matplotlib.axes._subplots.AxesSubplot at 0x233105efe08>"
      ]
     },
     "execution_count": 15,
     "metadata": {},
     "output_type": "execute_result"
    },
    {
     "data": {
      "image/png": "[encoded data removed]",
      "text/plain": [
       "<Figure size 1080x720 with 1 Axes>"
      ]
     },
     "metadata": {
      "needs_background": "light"
     },
     "output_type": "display_data"
    }
   ],
   "source": [
    "plt.figure(figsize=(15,10))\n",
    "plt.tight_layout()\n",
    "sbn.distplot(new_df['Temperature'])"
   ]
  },
  {
   "cell_type": "code",
   "execution_count": 16,
   "metadata": {},
   "outputs": [
    {
     "data": {
      "text/plain": [
       "LinearRegression(copy_X=True, fit_intercept=True, n_jobs=None, normalize=False)"
      ]
     },
     "execution_count": 16,
     "metadata": {},
     "output_type": "execute_result"
    }
   ],
   "source": [
    "X_train, X_test, y_train, y_test = train_test_split(X, y, test_size=0.3, random_state=0)\n",
    "\n",
    "regressor = LinearRegression()  \n",
    "regressor.fit(X_train, y_train)"
   ]
  },
  {
   "cell_type": "code",
   "execution_count": 17,
   "metadata": {},
   "outputs": [
    {
     "data": {
      "text/html": [
       "<div>\n",
       "<style scoped>\n",
       "    .dataframe tbody tr th:only-of-type {\n",
       "        vertical-align: middle;\n",
       "    }\n",
       "\n",
       "    .dataframe tbody tr th {\n",
       "        vertical-align: top;\n",
       "    }\n",
       "\n",
       "    .dataframe thead th {\n",
       "        text-align: right;\n",
       "    }\n",
       "</style>\n",
       "<table border=\"1\" class=\"dataframe\">\n",
       "  <thead>\n",
       "    <tr style=\"text-align: right;\">\n",
       "      <th></th>\n",
       "      <th>Coefficient</th>\n",
       "    </tr>\n",
       "  </thead>\n",
       "  <tbody>\n",
       "    <tr>\n",
       "      <th>0</th>\n",
       "      <td>-0.138383</td>\n",
       "    </tr>\n",
       "    <tr>\n",
       "      <th>1</th>\n",
       "      <td>0.019906</td>\n",
       "    </tr>\n",
       "    <tr>\n",
       "      <th>2</th>\n",
       "      <td>0.000761</td>\n",
       "    </tr>\n",
       "    <tr>\n",
       "      <th>3</th>\n",
       "      <td>0.006018</td>\n",
       "    </tr>\n",
       "    <tr>\n",
       "      <th>4</th>\n",
       "      <td>0.000055</td>\n",
       "    </tr>\n",
       "    <tr>\n",
       "      <th>5</th>\n",
       "      <td>0.001280</td>\n",
       "    </tr>\n",
       "    <tr>\n",
       "      <th>6</th>\n",
       "      <td>-0.185731</td>\n",
       "    </tr>\n",
       "    <tr>\n",
       "      <th>7</th>\n",
       "      <td>-0.000398</td>\n",
       "    </tr>\n",
       "    <tr>\n",
       "      <th>8</th>\n",
       "      <td>-0.287493</td>\n",
       "    </tr>\n",
       "    <tr>\n",
       "      <th>9</th>\n",
       "      <td>-0.014678</td>\n",
       "    </tr>\n",
       "    <tr>\n",
       "      <th>10</th>\n",
       "      <td>0.000000</td>\n",
       "    </tr>\n",
       "    <tr>\n",
       "      <th>11</th>\n",
       "      <td>1.060868</td>\n",
       "    </tr>\n",
       "  </tbody>\n",
       "</table>\n",
       "</div>"
      ],
      "text/plain": [
       "    Coefficient\n",
       "0     -0.138383\n",
       "1      0.019906\n",
       "2      0.000761\n",
       "3      0.006018\n",
       "4      0.000055\n",
       "5      0.001280\n",
       "6     -0.185731\n",
       "7     -0.000398\n",
       "8     -0.287493\n",
       "9     -0.014678\n",
       "10     0.000000\n",
       "11     1.060868"
      ]
     },
     "execution_count": 17,
     "metadata": {},
     "output_type": "execute_result"
    }
   ],
   "source": [
    "coeff_df = pd.DataFrame(regressor.coef_, columns=['Coefficient'])  \n",
    "coeff_df"
   ]
  },
  {
   "cell_type": "code",
   "execution_count": 18,
   "metadata": {},
   "outputs": [
    {
     "data": {
      "text/html": [
       "<div>\n",
       "<style scoped>\n",
       "    .dataframe tbody tr th:only-of-type {\n",
       "        vertical-align: middle;\n",
       "    }\n",
       "\n",
       "    .dataframe tbody tr th {\n",
       "        vertical-align: top;\n",
       "    }\n",
       "\n",
       "    .dataframe thead th {\n",
       "        text-align: right;\n",
       "    }\n",
       "</style>\n",
       "<table border=\"1\" class=\"dataframe\">\n",
       "  <thead>\n",
       "    <tr style=\"text-align: right;\">\n",
       "      <th></th>\n",
       "      <th>Actual</th>\n",
       "      <th>Predicted</th>\n",
       "    </tr>\n",
       "  </thead>\n",
       "  <tbody>\n",
       "    <tr>\n",
       "      <th>0</th>\n",
       "      <td>22.52</td>\n",
       "      <td>23.463637</td>\n",
       "    </tr>\n",
       "    <tr>\n",
       "      <th>1</th>\n",
       "      <td>6.97</td>\n",
       "      <td>5.501477</td>\n",
       "    </tr>\n",
       "    <tr>\n",
       "      <th>2</th>\n",
       "      <td>18.72</td>\n",
       "      <td>19.279936</td>\n",
       "    </tr>\n",
       "    <tr>\n",
       "      <th>3</th>\n",
       "      <td>6.78</td>\n",
       "      <td>8.361674</td>\n",
       "    </tr>\n",
       "    <tr>\n",
       "      <th>4</th>\n",
       "      <td>24.19</td>\n",
       "      <td>25.144441</td>\n",
       "    </tr>\n",
       "    <tr>\n",
       "      <th>...</th>\n",
       "      <td>...</td>\n",
       "      <td>...</td>\n",
       "    </tr>\n",
       "    <tr>\n",
       "      <th>204311</th>\n",
       "      <td>28.14</td>\n",
       "      <td>27.516572</td>\n",
       "    </tr>\n",
       "    <tr>\n",
       "      <th>204312</th>\n",
       "      <td>6.12</td>\n",
       "      <td>7.493700</td>\n",
       "    </tr>\n",
       "    <tr>\n",
       "      <th>204313</th>\n",
       "      <td>23.57</td>\n",
       "      <td>24.057625</td>\n",
       "    </tr>\n",
       "    <tr>\n",
       "      <th>204314</th>\n",
       "      <td>22.58</td>\n",
       "      <td>23.562195</td>\n",
       "    </tr>\n",
       "    <tr>\n",
       "      <th>204315</th>\n",
       "      <td>11.42</td>\n",
       "      <td>9.167154</td>\n",
       "    </tr>\n",
       "  </tbody>\n",
       "</table>\n",
       "<p>204316 rows × 2 columns</p>\n",
       "</div>"
      ],
      "text/plain": [
       "        Actual  Predicted\n",
       "0        22.52  23.463637\n",
       "1         6.97   5.501477\n",
       "2        18.72  19.279936\n",
       "3         6.78   8.361674\n",
       "4        24.19  25.144441\n",
       "...        ...        ...\n",
       "204311   28.14  27.516572\n",
       "204312    6.12   7.493700\n",
       "204313   23.57  24.057625\n",
       "204314   22.58  23.562195\n",
       "204315   11.42   9.167154\n",
       "\n",
       "[204316 rows x 2 columns]"
      ]
     },
     "execution_count": 18,
     "metadata": {},
     "output_type": "execute_result"
    }
   ],
   "source": [
    "y_pred = regressor.predict(X_test)\n",
    "\n",
    "df_pred_mult = pd.DataFrame({'Actual': y_test, 'Predicted': y_pred})\n",
    "df_pred_mult"
   ]
  },
  {
   "cell_type": "code",
   "execution_count": 19,
   "metadata": {},
   "outputs": [
    {
     "name": "stdout",
     "output_type": "stream",
     "text": [
      "Mean Absolute Error: 1.1132895468235027\n",
      "Mean Squared Error: 2.1084311787477548\n",
      "Root Mean Squared Error: 1.4520437936741972\n"
     ]
    }
   ],
   "source": [
    "print('Mean Absolute Error:', metrics.mean_absolute_error(y_test, y_pred))  \n",
    "print('Mean Squared Error:', metrics.mean_squared_error(y_test, y_pred))  \n",
    "print('Root Mean Squared Error:', np.sqrt(metrics.mean_squared_error(y_test, y_pred)))"
   ]
  },
  {
   "cell_type": "code",
   "execution_count": 20,
   "metadata": {},
   "outputs": [
    {
     "name": "stdout",
     "output_type": "stream",
     "text": [
      "97.00844153733634 %\n"
     ]
    }
   ],
   "source": [
    "accuracy = regressor.score(X_test, y_test)\n",
    "print(accuracy*100,'%')"
   ]
  },
  {
   "cell_type": "code",
   "execution_count": 21,
   "metadata": {},
   "outputs": [
    {
     "data": {
      "image/png": "[encoded data removed]",
      "text/plain": [
       "<Figure size 720x576 with 1 Axes>"
      ]
     },
     "metadata": {
      "needs_background": "light"
     },
     "output_type": "display_data"
    }
   ],
   "source": [
    "df_pred_mult = df_pred_mult.head(50)\n",
    "df_pred_mult.plot(kind='bar',figsize=(10,8))\n",
    "plt.grid(which='major', linestyle='-', linewidth='0.5', color='green')\n",
    "plt.grid(which='minor', linestyle=':', linewidth='0.5', color='black')\n",
    "plt.show()"
   ]
  },
  {
   "cell_type": "code",
   "execution_count": null,
   "metadata": {},
   "outputs": [],
   "source": []
  }
 ],
 "metadata": {
  "kernelspec": {
   "display_name": "Python 3",
   "language": "python",
   "name": "python3"
  },
  "language_info": {
   "codemirror_mode": {
    "name": "ipython",
    "version": 3
   },
   "file_extension": ".py",
   "mimetype": "text/x-python",
   "name": "python",
   "nbconvert_exporter": "python",
   "pygments_lexer": "ipython3",
   "version": "3.7.6"
  }
 },
 "nbformat": 4,
 "nbformat_minor": 4
}
